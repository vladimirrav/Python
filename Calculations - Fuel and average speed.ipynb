{
 "cells": [
  {
   "cell_type": "code",
   "execution_count": 22,
   "metadata": {},
   "outputs": [],
   "source": [
    "from datetime import datetime, date, time, timedelta\n",
    "import pandas as pd"
   ]
  },
  {
   "cell_type": "code",
   "execution_count": 23,
   "metadata": {},
   "outputs": [],
   "source": [
    "n = 1\n",
    "dist = 963 * n\n",
    "kml_G = 13.6\n",
    "price_LG = 7.9\n",
    "kml_E = 12.0\n",
    "price_LE = 5.7\n",
    "capacity = 50"
   ]
  },
  {
   "cell_type": "code",
   "execution_count": 24,
   "metadata": {},
   "outputs": [],
   "source": [
    "df_fuel = pd.DataFrame(\n",
    "\t{\n",
    "\t\t'Fuel'\t\t\t\t: ['Gasoline', 'Ethanol'],\n",
    "\t\t'R$/L'\t\t\t\t: [price_LG, price_LE],\n",
    "\t\t'Km/L'\t\t\t\t: [kml_G, kml_E]\n",
    "\t}\n",
    ")\n",
    "\n",
    "df_fuel['Autonomy (Km)']\t= capacity * df_fuel['Km/L']\n",
    "df_fuel['Km/autonomy']\t\t= dist / df_fuel['Autonomy (Km)']\n",
    "df_fuel['L/100 Km'] \t\t= 100 / df_fuel['Km/L']\n",
    "df_fuel['R$/Km']\t\t\t= df_fuel['R$/L'] / df_fuel['Km/L']\n",
    "df_fuel['R$/fill']\t\t\t= df_fuel['R$/L'] * capacity\n",
    "df_fuel['R$/100 Km']\t\t= df_fuel['R$/L'] * df_fuel['L/100 Km']\n",
    "df_fuel['Volume (L)']\t\t= dist / df_fuel['Km/L']\n",
    "df_fuel['Cost (R$)']\t\t= df_fuel['R$/L'] * df_fuel['Volume (L)']\n",
    "df_fuel['R$ ratio']\t\t\t= [price_LG / price_LE, price_LE / price_LG]\n",
    "df_fuel['Km ratio']\t\t\t= [kml_G / kml_E, kml_E / kml_G]"
   ]
  },
  {
   "cell_type": "code",
   "execution_count": 25,
   "metadata": {},
   "outputs": [],
   "source": [
    "one_way = int(dist / n)\n",
    "avg_speed = 80"
   ]
  },
  {
   "cell_type": "code",
   "execution_count": 26,
   "metadata": {},
   "outputs": [],
   "source": [
    "df_trip = pd.DataFrame(\n",
    "\t{\n",
    "\t\t'Distance (Km)'\t\t: [one_way],\n",
    "\t\t'AVG speed (Km/h)'\t: [avg_speed],\n",
    "\t\t# 'Departure time'\t: [datetime.combine(datetime(2022, 4, 28), time(7, 0, 0))]\n",
    "\t\t'Departure time'\t: [datetime.combine(date.today(), time(7, 0, 0))]\n",
    "\t}\n",
    ")\n",
    "df_trip['Arrival time'] = df_trip['Departure time'] + timedelta(seconds = int((df_trip['Distance (Km)'] / df_trip['AVG speed (Km/h)']) * 3600))\n",
    "df_trip['Elapsed time'] = df_trip['Arrival time'] - df_trip['Departure time']\n",
    "df_time = pd.to_timedelta(df_trip['Elapsed time']).dt.components[['days', 'hours', 'minutes', 'seconds']]\n",
    "df_time['hours'] = df_time['hours'].add(df_time.pop('days') * 24)\n",
    "\n",
    "df_trip['Elapsed time hh:mm:ss'] = df_time.astype(str).agg(lambda s: ':'.join(s.str.zfill(2)), axis=1)"
   ]
  },
  {
   "cell_type": "code",
   "execution_count": 27,
   "metadata": {},
   "outputs": [
    {
     "name": "stdout",
     "output_type": "stream",
     "text": [
      "Fuel costs\n",
      "Tank capacity: 50 L | Distance: 963 Km\n"
     ]
    },
    {
     "data": {
      "text/html": [
       "<div>\n",
       "<style scoped>\n",
       "    .dataframe tbody tr th:only-of-type {\n",
       "        vertical-align: middle;\n",
       "    }\n",
       "\n",
       "    .dataframe tbody tr th {\n",
       "        vertical-align: top;\n",
       "    }\n",
       "\n",
       "    .dataframe thead th {\n",
       "        text-align: right;\n",
       "    }\n",
       "</style>\n",
       "<table border=\"1\" class=\"dataframe\">\n",
       "  <thead>\n",
       "    <tr style=\"text-align: right;\">\n",
       "      <th></th>\n",
       "      <th>Fuel</th>\n",
       "      <th>R$/L</th>\n",
       "      <th>Km/L</th>\n",
       "      <th>Autonomy (Km)</th>\n",
       "      <th>Km/autonomy</th>\n",
       "      <th>L/100 Km</th>\n",
       "      <th>R$/Km</th>\n",
       "      <th>R$/fill</th>\n",
       "      <th>R$/100 Km</th>\n",
       "      <th>Volume (L)</th>\n",
       "      <th>Cost (R$)</th>\n",
       "      <th>R$ ratio</th>\n",
       "      <th>Km ratio</th>\n",
       "    </tr>\n",
       "  </thead>\n",
       "  <tbody>\n",
       "    <tr>\n",
       "      <th>0</th>\n",
       "      <td>Gasoline</td>\n",
       "      <td>7.9</td>\n",
       "      <td>13.6</td>\n",
       "      <td>680.0</td>\n",
       "      <td>1.416176</td>\n",
       "      <td>7.352941</td>\n",
       "      <td>0.580882</td>\n",
       "      <td>395.0</td>\n",
       "      <td>58.088235</td>\n",
       "      <td>70.808824</td>\n",
       "      <td>559.389706</td>\n",
       "      <td>1.385965</td>\n",
       "      <td>1.133333</td>\n",
       "    </tr>\n",
       "    <tr>\n",
       "      <th>1</th>\n",
       "      <td>Ethanol</td>\n",
       "      <td>5.7</td>\n",
       "      <td>12.0</td>\n",
       "      <td>600.0</td>\n",
       "      <td>1.605000</td>\n",
       "      <td>8.333333</td>\n",
       "      <td>0.475000</td>\n",
       "      <td>285.0</td>\n",
       "      <td>47.500000</td>\n",
       "      <td>80.250000</td>\n",
       "      <td>457.425000</td>\n",
       "      <td>0.721519</td>\n",
       "      <td>0.882353</td>\n",
       "    </tr>\n",
       "  </tbody>\n",
       "</table>\n",
       "</div>"
      ],
      "text/plain": [
       "       Fuel  R$/L  Km/L  Autonomy (Km)  Km/autonomy  L/100 Km     R$/Km  \\\n",
       "0  Gasoline   7.9  13.6          680.0     1.416176  7.352941  0.580882   \n",
       "1   Ethanol   5.7  12.0          600.0     1.605000  8.333333  0.475000   \n",
       "\n",
       "   R$/fill  R$/100 Km  Volume (L)   Cost (R$)  R$ ratio  Km ratio  \n",
       "0    395.0  58.088235   70.808824  559.389706  1.385965  1.133333  \n",
       "1    285.0  47.500000   80.250000  457.425000  0.721519  0.882353  "
      ]
     },
     "execution_count": 27,
     "metadata": {},
     "output_type": "execute_result"
    }
   ],
   "source": [
    "print ('Fuel costs')\n",
    "print ('Tank capacity:', capacity, 'L | Distance:', dist, 'Km')\n",
    "df_fuel"
   ]
  },
  {
   "cell_type": "code",
   "execution_count": 28,
   "metadata": {},
   "outputs": [
    {
     "name": "stdout",
     "output_type": "stream",
     "text": [
      "Trip calculations\n"
     ]
    },
    {
     "data": {
      "text/html": [
       "<div>\n",
       "<style scoped>\n",
       "    .dataframe tbody tr th:only-of-type {\n",
       "        vertical-align: middle;\n",
       "    }\n",
       "\n",
       "    .dataframe tbody tr th {\n",
       "        vertical-align: top;\n",
       "    }\n",
       "\n",
       "    .dataframe thead th {\n",
       "        text-align: right;\n",
       "    }\n",
       "</style>\n",
       "<table border=\"1\" class=\"dataframe\">\n",
       "  <thead>\n",
       "    <tr style=\"text-align: right;\">\n",
       "      <th></th>\n",
       "      <th>Distance (Km)</th>\n",
       "      <th>AVG speed (Km/h)</th>\n",
       "      <th>Departure time</th>\n",
       "      <th>Arrival time</th>\n",
       "      <th>Elapsed time</th>\n",
       "      <th>Elapsed time hh:mm:ss</th>\n",
       "    </tr>\n",
       "  </thead>\n",
       "  <tbody>\n",
       "    <tr>\n",
       "      <th>0</th>\n",
       "      <td>963</td>\n",
       "      <td>80</td>\n",
       "      <td>2022-04-28 07:00:00</td>\n",
       "      <td>2022-04-28 19:02:15</td>\n",
       "      <td>0 days 12:02:15</td>\n",
       "      <td>12:02:15</td>\n",
       "    </tr>\n",
       "  </tbody>\n",
       "</table>\n",
       "</div>"
      ],
      "text/plain": [
       "   Distance (Km)  AVG speed (Km/h)      Departure time        Arrival time  \\\n",
       "0            963                80 2022-04-28 07:00:00 2022-04-28 19:02:15   \n",
       "\n",
       "     Elapsed time Elapsed time hh:mm:ss  \n",
       "0 0 days 12:02:15              12:02:15  "
      ]
     },
     "execution_count": 28,
     "metadata": {},
     "output_type": "execute_result"
    }
   ],
   "source": [
    "print('Trip calculations')\n",
    "df_trip"
   ]
  },
  {
   "cell_type": "code",
   "execution_count": 29,
   "metadata": {},
   "outputs": [
    {
     "name": "stdout",
     "output_type": "stream",
     "text": [
      "Fuel's lowest value\n"
     ]
    },
    {
     "data": {
      "text/html": [
       "<div>\n",
       "<style scoped>\n",
       "    .dataframe tbody tr th:only-of-type {\n",
       "        vertical-align: middle;\n",
       "    }\n",
       "\n",
       "    .dataframe tbody tr th {\n",
       "        vertical-align: top;\n",
       "    }\n",
       "\n",
       "    .dataframe thead th {\n",
       "        text-align: right;\n",
       "    }\n",
       "</style>\n",
       "<table border=\"1\" class=\"dataframe\">\n",
       "  <thead>\n",
       "    <tr style=\"text-align: right;\">\n",
       "      <th></th>\n",
       "      <th>Fuel</th>\n",
       "      <th>R$/L</th>\n",
       "      <th>Km/L</th>\n",
       "      <th>Autonomy (Km)</th>\n",
       "      <th>Km/autonomy</th>\n",
       "      <th>L/100 Km</th>\n",
       "      <th>R$/Km</th>\n",
       "      <th>R$/fill</th>\n",
       "      <th>R$/100 Km</th>\n",
       "      <th>Volume (L)</th>\n",
       "      <th>Cost (R$)</th>\n",
       "      <th>R$ ratio</th>\n",
       "      <th>Km ratio</th>\n",
       "    </tr>\n",
       "  </thead>\n",
       "  <tbody>\n",
       "    <tr>\n",
       "      <th>1</th>\n",
       "      <td>Ethanol</td>\n",
       "      <td>5.7</td>\n",
       "      <td>12.0</td>\n",
       "      <td>600.0</td>\n",
       "      <td>1.605</td>\n",
       "      <td>8.333333</td>\n",
       "      <td>0.475</td>\n",
       "      <td>285.0</td>\n",
       "      <td>47.5</td>\n",
       "      <td>80.25</td>\n",
       "      <td>457.425</td>\n",
       "      <td>0.721519</td>\n",
       "      <td>0.882353</td>\n",
       "    </tr>\n",
       "  </tbody>\n",
       "</table>\n",
       "</div>"
      ],
      "text/plain": [
       "      Fuel  R$/L  Km/L  Autonomy (Km)  Km/autonomy  L/100 Km  R$/Km  R$/fill  \\\n",
       "1  Ethanol   5.7  12.0          600.0        1.605  8.333333  0.475    285.0   \n",
       "\n",
       "   R$/100 Km  Volume (L)  Cost (R$)  R$ ratio  Km ratio  \n",
       "1       47.5       80.25    457.425  0.721519  0.882353  "
      ]
     },
     "execution_count": 29,
     "metadata": {},
     "output_type": "execute_result"
    }
   ],
   "source": [
    "print(\"Fuel's lowest value\")\n",
    "df_fuel[df_fuel['R$/Km'] == df_fuel['R$/Km'].min()]"
   ]
  },
  {
   "cell_type": "code",
   "execution_count": 30,
   "metadata": {},
   "outputs": [
    {
     "name": "stdout",
     "output_type": "stream",
     "text": [
      "Fuel's highest value\n"
     ]
    },
    {
     "data": {
      "text/html": [
       "<div>\n",
       "<style scoped>\n",
       "    .dataframe tbody tr th:only-of-type {\n",
       "        vertical-align: middle;\n",
       "    }\n",
       "\n",
       "    .dataframe tbody tr th {\n",
       "        vertical-align: top;\n",
       "    }\n",
       "\n",
       "    .dataframe thead th {\n",
       "        text-align: right;\n",
       "    }\n",
       "</style>\n",
       "<table border=\"1\" class=\"dataframe\">\n",
       "  <thead>\n",
       "    <tr style=\"text-align: right;\">\n",
       "      <th></th>\n",
       "      <th>Fuel</th>\n",
       "      <th>R$/L</th>\n",
       "      <th>Km/L</th>\n",
       "      <th>Autonomy (Km)</th>\n",
       "      <th>Km/autonomy</th>\n",
       "      <th>L/100 Km</th>\n",
       "      <th>R$/Km</th>\n",
       "      <th>R$/fill</th>\n",
       "      <th>R$/100 Km</th>\n",
       "      <th>Volume (L)</th>\n",
       "      <th>Cost (R$)</th>\n",
       "      <th>R$ ratio</th>\n",
       "      <th>Km ratio</th>\n",
       "    </tr>\n",
       "  </thead>\n",
       "  <tbody>\n",
       "    <tr>\n",
       "      <th>0</th>\n",
       "      <td>Gasoline</td>\n",
       "      <td>7.9</td>\n",
       "      <td>13.6</td>\n",
       "      <td>680.0</td>\n",
       "      <td>1.416176</td>\n",
       "      <td>7.352941</td>\n",
       "      <td>0.580882</td>\n",
       "      <td>395.0</td>\n",
       "      <td>58.088235</td>\n",
       "      <td>70.808824</td>\n",
       "      <td>559.389706</td>\n",
       "      <td>1.385965</td>\n",
       "      <td>1.133333</td>\n",
       "    </tr>\n",
       "  </tbody>\n",
       "</table>\n",
       "</div>"
      ],
      "text/plain": [
       "       Fuel  R$/L  Km/L  Autonomy (Km)  Km/autonomy  L/100 Km     R$/Km  \\\n",
       "0  Gasoline   7.9  13.6          680.0     1.416176  7.352941  0.580882   \n",
       "\n",
       "   R$/fill  R$/100 Km  Volume (L)   Cost (R$)  R$ ratio  Km ratio  \n",
       "0    395.0  58.088235   70.808824  559.389706  1.385965  1.133333  "
      ]
     },
     "execution_count": 30,
     "metadata": {},
     "output_type": "execute_result"
    }
   ],
   "source": [
    "print(\"Fuel's highest value\")\n",
    "df_fuel[df_fuel['R$/Km'] == df_fuel['R$/Km'].max()]"
   ]
  },
  {
   "cell_type": "code",
   "execution_count": 31,
   "metadata": {},
   "outputs": [
    {
     "name": "stdout",
     "output_type": "stream",
     "text": [
      "Trip with the cheapest fuel\n"
     ]
    },
    {
     "data": {
      "text/html": [
       "<div>\n",
       "<style scoped>\n",
       "    .dataframe tbody tr th:only-of-type {\n",
       "        vertical-align: middle;\n",
       "    }\n",
       "\n",
       "    .dataframe tbody tr th {\n",
       "        vertical-align: top;\n",
       "    }\n",
       "\n",
       "    .dataframe thead th {\n",
       "        text-align: right;\n",
       "    }\n",
       "</style>\n",
       "<table border=\"1\" class=\"dataframe\">\n",
       "  <thead>\n",
       "    <tr style=\"text-align: right;\">\n",
       "      <th></th>\n",
       "      <th>index</th>\n",
       "      <th>Fuel</th>\n",
       "      <th>R$/L</th>\n",
       "      <th>Km/L</th>\n",
       "      <th>Autonomy (Km)</th>\n",
       "      <th>Km/autonomy</th>\n",
       "      <th>L/100 Km</th>\n",
       "      <th>R$/Km</th>\n",
       "      <th>R$/fill</th>\n",
       "      <th>R$/100 Km</th>\n",
       "      <th>Volume (L)</th>\n",
       "      <th>Cost (R$)</th>\n",
       "      <th>R$ ratio</th>\n",
       "      <th>Km ratio</th>\n",
       "      <th>Distance (Km)</th>\n",
       "      <th>AVG speed (Km/h)</th>\n",
       "      <th>Departure time</th>\n",
       "      <th>Arrival time</th>\n",
       "      <th>Elapsed time</th>\n",
       "      <th>Elapsed time hh:mm:ss</th>\n",
       "    </tr>\n",
       "  </thead>\n",
       "  <tbody>\n",
       "    <tr>\n",
       "      <th>0</th>\n",
       "      <td>1</td>\n",
       "      <td>Ethanol</td>\n",
       "      <td>5.7</td>\n",
       "      <td>12.0</td>\n",
       "      <td>600.0</td>\n",
       "      <td>1.605</td>\n",
       "      <td>8.333333</td>\n",
       "      <td>0.475</td>\n",
       "      <td>285.0</td>\n",
       "      <td>47.5</td>\n",
       "      <td>80.25</td>\n",
       "      <td>457.425</td>\n",
       "      <td>0.721519</td>\n",
       "      <td>0.882353</td>\n",
       "      <td>963</td>\n",
       "      <td>80</td>\n",
       "      <td>2022-04-28 07:00:00</td>\n",
       "      <td>2022-04-28 19:02:15</td>\n",
       "      <td>0 days 12:02:15</td>\n",
       "      <td>12:02:15</td>\n",
       "    </tr>\n",
       "  </tbody>\n",
       "</table>\n",
       "</div>"
      ],
      "text/plain": [
       "   index     Fuel  R$/L  Km/L  Autonomy (Km)  Km/autonomy  L/100 Km  R$/Km  \\\n",
       "0      1  Ethanol   5.7  12.0          600.0        1.605  8.333333  0.475   \n",
       "\n",
       "   R$/fill  R$/100 Km  Volume (L)  Cost (R$)  R$ ratio  Km ratio  \\\n",
       "0    285.0       47.5       80.25    457.425  0.721519  0.882353   \n",
       "\n",
       "   Distance (Km)  AVG speed (Km/h)      Departure time        Arrival time  \\\n",
       "0            963                80 2022-04-28 07:00:00 2022-04-28 19:02:15   \n",
       "\n",
       "     Elapsed time Elapsed time hh:mm:ss  \n",
       "0 0 days 12:02:15              12:02:15  "
      ]
     },
     "execution_count": 31,
     "metadata": {},
     "output_type": "execute_result"
    }
   ],
   "source": [
    "print('Trip with the cheapest fuel')\n",
    "df_cheaper = df_fuel[df_fuel['R$/Km'] == df_fuel['R$/Km'].min()]\n",
    "df_cheaper.reset_index(inplace=True)\n",
    "pd.concat([df_cheaper, df_trip], axis=1)"
   ]
  },
  {
   "cell_type": "code",
   "execution_count": 35,
   "metadata": {},
   "outputs": [
    {
     "name": "stdout",
     "output_type": "stream",
     "text": [
      "Trip with the most expensive fuel\n"
     ]
    },
    {
     "data": {
      "text/html": [
       "<div>\n",
       "<style scoped>\n",
       "    .dataframe tbody tr th:only-of-type {\n",
       "        vertical-align: middle;\n",
       "    }\n",
       "\n",
       "    .dataframe tbody tr th {\n",
       "        vertical-align: top;\n",
       "    }\n",
       "\n",
       "    .dataframe thead th {\n",
       "        text-align: right;\n",
       "    }\n",
       "</style>\n",
       "<table border=\"1\" class=\"dataframe\">\n",
       "  <thead>\n",
       "    <tr style=\"text-align: right;\">\n",
       "      <th></th>\n",
       "      <th>index</th>\n",
       "      <th>Fuel</th>\n",
       "      <th>R$/L</th>\n",
       "      <th>Km/L</th>\n",
       "      <th>Autonomy (Km)</th>\n",
       "      <th>Km/autonomy</th>\n",
       "      <th>L/100 Km</th>\n",
       "      <th>R$/Km</th>\n",
       "      <th>R$/fill</th>\n",
       "      <th>R$/100 Km</th>\n",
       "      <th>Volume (L)</th>\n",
       "      <th>Cost (R$)</th>\n",
       "      <th>R$ ratio</th>\n",
       "      <th>Km ratio</th>\n",
       "      <th>Distance (Km)</th>\n",
       "      <th>AVG speed (Km/h)</th>\n",
       "      <th>Departure time</th>\n",
       "      <th>Arrival time</th>\n",
       "      <th>Elapsed time</th>\n",
       "      <th>Elapsed time hh:mm:ss</th>\n",
       "    </tr>\n",
       "  </thead>\n",
       "  <tbody>\n",
       "    <tr>\n",
       "      <th>0</th>\n",
       "      <td>0</td>\n",
       "      <td>Gasoline</td>\n",
       "      <td>7.9</td>\n",
       "      <td>13.6</td>\n",
       "      <td>680.0</td>\n",
       "      <td>1.416176</td>\n",
       "      <td>7.352941</td>\n",
       "      <td>0.580882</td>\n",
       "      <td>395.0</td>\n",
       "      <td>58.088235</td>\n",
       "      <td>70.808824</td>\n",
       "      <td>559.389706</td>\n",
       "      <td>1.385965</td>\n",
       "      <td>1.133333</td>\n",
       "      <td>963</td>\n",
       "      <td>80</td>\n",
       "      <td>2022-04-28 07:00:00</td>\n",
       "      <td>2022-04-28 19:02:15</td>\n",
       "      <td>0 days 12:02:15</td>\n",
       "      <td>12:02:15</td>\n",
       "    </tr>\n",
       "  </tbody>\n",
       "</table>\n",
       "</div>"
      ],
      "text/plain": [
       "   index      Fuel  R$/L  Km/L  Autonomy (Km)  Km/autonomy  L/100 Km  \\\n",
       "0      0  Gasoline   7.9  13.6          680.0     1.416176  7.352941   \n",
       "\n",
       "      R$/Km  R$/fill  R$/100 Km  Volume (L)   Cost (R$)  R$ ratio  Km ratio  \\\n",
       "0  0.580882    395.0  58.088235   70.808824  559.389706  1.385965  1.133333   \n",
       "\n",
       "   Distance (Km)  AVG speed (Km/h)      Departure time        Arrival time  \\\n",
       "0            963                80 2022-04-28 07:00:00 2022-04-28 19:02:15   \n",
       "\n",
       "     Elapsed time Elapsed time hh:mm:ss  \n",
       "0 0 days 12:02:15              12:02:15  "
      ]
     },
     "execution_count": 35,
     "metadata": {},
     "output_type": "execute_result"
    }
   ],
   "source": [
    "print('Trip with the most expensive fuel')\n",
    "df_cheaper = df_fuel[df_fuel['R$/Km'] == df_fuel['R$/Km'].max()]\n",
    "df_cheaper.reset_index(inplace=True)\n",
    "pd.concat([df_cheaper, df_trip], axis=1)"
   ]
  },
  {
   "cell_type": "code",
   "execution_count": 32,
   "metadata": {},
   "outputs": [
    {
     "name": "stdout",
     "output_type": "stream",
     "text": [
      "Trip with the highest autonomy fuel\n"
     ]
    },
    {
     "data": {
      "text/html": [
       "<div>\n",
       "<style scoped>\n",
       "    .dataframe tbody tr th:only-of-type {\n",
       "        vertical-align: middle;\n",
       "    }\n",
       "\n",
       "    .dataframe tbody tr th {\n",
       "        vertical-align: top;\n",
       "    }\n",
       "\n",
       "    .dataframe thead th {\n",
       "        text-align: right;\n",
       "    }\n",
       "</style>\n",
       "<table border=\"1\" class=\"dataframe\">\n",
       "  <thead>\n",
       "    <tr style=\"text-align: right;\">\n",
       "      <th></th>\n",
       "      <th>index</th>\n",
       "      <th>Fuel</th>\n",
       "      <th>R$/L</th>\n",
       "      <th>Km/L</th>\n",
       "      <th>Autonomy (Km)</th>\n",
       "      <th>Km/autonomy</th>\n",
       "      <th>L/100 Km</th>\n",
       "      <th>R$/Km</th>\n",
       "      <th>R$/fill</th>\n",
       "      <th>R$/100 Km</th>\n",
       "      <th>Volume (L)</th>\n",
       "      <th>Cost (R$)</th>\n",
       "      <th>R$ ratio</th>\n",
       "      <th>Km ratio</th>\n",
       "      <th>Distance (Km)</th>\n",
       "      <th>AVG speed (Km/h)</th>\n",
       "      <th>Departure time</th>\n",
       "      <th>Arrival time</th>\n",
       "      <th>Elapsed time</th>\n",
       "      <th>Elapsed time hh:mm:ss</th>\n",
       "    </tr>\n",
       "  </thead>\n",
       "  <tbody>\n",
       "    <tr>\n",
       "      <th>0</th>\n",
       "      <td>0</td>\n",
       "      <td>Gasoline</td>\n",
       "      <td>7.9</td>\n",
       "      <td>13.6</td>\n",
       "      <td>680.0</td>\n",
       "      <td>1.416176</td>\n",
       "      <td>7.352941</td>\n",
       "      <td>0.580882</td>\n",
       "      <td>395.0</td>\n",
       "      <td>58.088235</td>\n",
       "      <td>70.808824</td>\n",
       "      <td>559.389706</td>\n",
       "      <td>1.385965</td>\n",
       "      <td>1.133333</td>\n",
       "      <td>963</td>\n",
       "      <td>80</td>\n",
       "      <td>2022-04-28 07:00:00</td>\n",
       "      <td>2022-04-28 19:02:15</td>\n",
       "      <td>0 days 12:02:15</td>\n",
       "      <td>12:02:15</td>\n",
       "    </tr>\n",
       "  </tbody>\n",
       "</table>\n",
       "</div>"
      ],
      "text/plain": [
       "   index      Fuel  R$/L  Km/L  Autonomy (Km)  Km/autonomy  L/100 Km  \\\n",
       "0      0  Gasoline   7.9  13.6          680.0     1.416176  7.352941   \n",
       "\n",
       "      R$/Km  R$/fill  R$/100 Km  Volume (L)   Cost (R$)  R$ ratio  Km ratio  \\\n",
       "0  0.580882    395.0  58.088235   70.808824  559.389706  1.385965  1.133333   \n",
       "\n",
       "   Distance (Km)  AVG speed (Km/h)      Departure time        Arrival time  \\\n",
       "0            963                80 2022-04-28 07:00:00 2022-04-28 19:02:15   \n",
       "\n",
       "     Elapsed time Elapsed time hh:mm:ss  \n",
       "0 0 days 12:02:15              12:02:15  "
      ]
     },
     "execution_count": 32,
     "metadata": {},
     "output_type": "execute_result"
    }
   ],
   "source": [
    "print(\"Trip with the highest autonomy fuel\")\n",
    "df_most_autonomy = df_fuel[df_fuel['Autonomy (Km)'] == df_fuel['Autonomy (Km)'].max()]\n",
    "df_most_autonomy.reset_index(inplace=True)\n",
    "pd.concat([df_most_autonomy, df_trip], axis=1)"
   ]
  }
 ],
 "metadata": {
  "interpreter": {
   "hash": "b89b5cfaba6639976dc87ff2fec6d58faec662063367e2c229c520fe71072417"
  },
  "kernelspec": {
   "display_name": "Python 3.10.0 64-bit",
   "language": "python",
   "name": "python3"
  },
  "language_info": {
   "codemirror_mode": {
    "name": "ipython",
    "version": 3
   },
   "file_extension": ".py",
   "mimetype": "text/x-python",
   "name": "python",
   "nbconvert_exporter": "python",
   "pygments_lexer": "ipython3",
   "version": "3.10.0"
  },
  "orig_nbformat": 4
 },
 "nbformat": 4,
 "nbformat_minor": 2
}
