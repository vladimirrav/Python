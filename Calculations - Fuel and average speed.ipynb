{
 "cells": [
  {
   "cell_type": "code",
   "execution_count": 17,
   "metadata": {},
   "outputs": [],
   "source": [
    "from datetime import datetime, date, time, timedelta\n",
    "import pandas as pd\n",
    "from matplotlib import pyplot as plt\n",
    "import seaborn as sns"
   ]
  },
  {
   "cell_type": "code",
   "execution_count": 18,
   "metadata": {},
   "outputs": [],
   "source": [
    "n = 2\n",
    "dist = 963 * n\n",
    "kml_G = 13.0\n",
    "price_LG = 7.9\n",
    "kml_E = 11.5\n",
    "price_LE = 5.7\n",
    "capacity = 50"
   ]
  },
  {
   "cell_type": "markdown",
   "metadata": {},
   "source": [
    "### Fuel calculations\n",
    "* `Autonomy (Km)`: The distance the car can go when the tank is full\n",
    "* `Km/autonomy`: The ratio between the distance and the autonomy\n",
    "* `L/100 Km`: Liters per 100 Km\n",
    "* `R$/Km`: The cost per Km\n",
    "* `R$/fill`: The cost to get the tank full\n",
    "* `R$/100 Km`: The cost to go 100 Km\n",
    "* `Volume (L)`: The amount of fuel needed\n",
    "* `Cost (R$)`: The cost of the fuel\n",
    "* `R$ ratio`: Price ratio between the fuels\n",
    "* `Km ratio`: Km ration each fuel can go"
   ]
  },
  {
   "cell_type": "code",
   "execution_count": 19,
   "metadata": {},
   "outputs": [],
   "source": [
    "df_fuel = pd.DataFrame(\n",
    "\t{\n",
    "\t\t'Fuel'\t\t\t\t: ['Gasoline', 'Ethanol'],\n",
    "\t\t'R$/L'\t\t\t\t: [price_LG, price_LE],\n",
    "\t\t'Km/L'\t\t\t\t: [kml_G, kml_E]\n",
    "\t}\n",
    ")\n",
    "\n",
    "df_fuel['Autonomy (Km)']\t= capacity * df_fuel['Km/L']\n",
    "df_fuel['Km/autonomy']\t\t= round(dist / df_fuel['Autonomy (Km)'], 1)\n",
    "df_fuel['L/100 Km'] \t\t= round(100 / df_fuel['Km/L'], 1)\n",
    "df_fuel['R$/Km']\t\t\t= round(df_fuel['R$/L'] / df_fuel['Km/L'], 2)\n",
    "df_fuel['R$/fill']\t\t\t= round(df_fuel['R$/L'] * capacity, 2)\n",
    "df_fuel['R$/100 Km']\t\t= round(df_fuel['R$/L'] * df_fuel['L/100 Km'], 2)\n",
    "df_fuel['Volume (L)']\t\t= round(dist / df_fuel['Km/L'], 1)\n",
    "df_fuel['Cost (R$)']\t\t= round(df_fuel['R$/L'] * df_fuel['Volume (L)'], 2)\n",
    "df_fuel['R$ ratio']\t\t\t= [round(price_LG / price_LE, 3), round(price_LE / price_LG, 3)]\n",
    "df_fuel['Km ratio']\t\t\t= [round(kml_G / kml_E, 3), round(kml_E / kml_G, 3)]"
   ]
  },
  {
   "cell_type": "code",
   "execution_count": 20,
   "metadata": {},
   "outputs": [],
   "source": [
    "one_way = int(dist / n)\n",
    "avg_speed = 80"
   ]
  },
  {
   "cell_type": "markdown",
   "metadata": {},
   "source": [
    "### Trip calculations\n",
    "* `Distance (Km)`: Trip distance\n",
    "* `AVG speed (Km/h)`: Average trip speed\n",
    "* `Departure time`: Date and time the trip starts\n",
    "* `Arrival time`: Estimated date and time the trip ends\n",
    "* `Elapsed time`: Trip total duration\n",
    "* `Elapsed time hh:mm:ss`: Trip total duration in the format hh:mm:ss"
   ]
  },
  {
   "cell_type": "code",
   "execution_count": 21,
   "metadata": {},
   "outputs": [],
   "source": [
    "df_trip = pd.DataFrame(\n",
    "\t{\n",
    "\t\t'Distance (Km)'\t\t: [one_way],\n",
    "\t\t'AVG speed (Km/h)'\t: [avg_speed],\n",
    "\t\t# 'Departure time'\t: [datetime.combine(datetime(2022, 4, 28), time(7, 0, 0))]\n",
    "\t\t'Departure time'\t: [datetime.combine(date.today(), time(7, 0, 0))]\n",
    "\t}\n",
    ")\n",
    "df_trip['Arrival time'] = df_trip['Departure time'] + timedelta(seconds = int((df_trip['Distance (Km)'] / df_trip['AVG speed (Km/h)']) * 3600))\n",
    "df_trip['Elapsed time'] = df_trip['Arrival time'] - df_trip['Departure time']\n",
    "df_time = pd.to_timedelta(df_trip['Elapsed time']).dt.components[['days', 'hours', 'minutes', 'seconds']]\n",
    "df_time['hours'] = df_time['hours'].add(df_time.pop('days') * 24)\n",
    "df_trip['Elapsed time hh:mm:ss'] = df_time.astype(str).agg(lambda s: ':'.join(s.str.zfill(2)), axis=1)"
   ]
  },
  {
   "cell_type": "markdown",
   "metadata": {},
   "source": [
    "### Fuel costs"
   ]
  },
  {
   "cell_type": "code",
   "execution_count": 22,
   "metadata": {},
   "outputs": [
    {
     "name": "stdout",
     "output_type": "stream",
     "text": [
      "Fuel costs\n",
      "Tank capacity: 50 L | Distance: 1926 Km\n"
     ]
    },
    {
     "data": {
      "text/html": [
       "<div>\n",
       "<style scoped>\n",
       "    .dataframe tbody tr th:only-of-type {\n",
       "        vertical-align: middle;\n",
       "    }\n",
       "\n",
       "    .dataframe tbody tr th {\n",
       "        vertical-align: top;\n",
       "    }\n",
       "\n",
       "    .dataframe thead th {\n",
       "        text-align: right;\n",
       "    }\n",
       "</style>\n",
       "<table border=\"1\" class=\"dataframe\">\n",
       "  <thead>\n",
       "    <tr style=\"text-align: right;\">\n",
       "      <th></th>\n",
       "      <th>Fuel</th>\n",
       "      <th>R$/L</th>\n",
       "      <th>Km/L</th>\n",
       "      <th>Autonomy (Km)</th>\n",
       "      <th>Km/autonomy</th>\n",
       "      <th>L/100 Km</th>\n",
       "      <th>R$/Km</th>\n",
       "      <th>R$/fill</th>\n",
       "      <th>R$/100 Km</th>\n",
       "      <th>Volume (L)</th>\n",
       "      <th>Cost (R$)</th>\n",
       "      <th>R$ ratio</th>\n",
       "      <th>Km ratio</th>\n",
       "    </tr>\n",
       "  </thead>\n",
       "  <tbody>\n",
       "    <tr>\n",
       "      <th>0</th>\n",
       "      <td>Gasoline</td>\n",
       "      <td>7.9</td>\n",
       "      <td>13.0</td>\n",
       "      <td>650.0</td>\n",
       "      <td>3.0</td>\n",
       "      <td>7.7</td>\n",
       "      <td>0.61</td>\n",
       "      <td>395.0</td>\n",
       "      <td>60.83</td>\n",
       "      <td>148.2</td>\n",
       "      <td>1170.78</td>\n",
       "      <td>1.386</td>\n",
       "      <td>1.130</td>\n",
       "    </tr>\n",
       "    <tr>\n",
       "      <th>1</th>\n",
       "      <td>Ethanol</td>\n",
       "      <td>5.7</td>\n",
       "      <td>11.5</td>\n",
       "      <td>575.0</td>\n",
       "      <td>3.3</td>\n",
       "      <td>8.7</td>\n",
       "      <td>0.50</td>\n",
       "      <td>285.0</td>\n",
       "      <td>49.59</td>\n",
       "      <td>167.5</td>\n",
       "      <td>954.75</td>\n",
       "      <td>0.722</td>\n",
       "      <td>0.885</td>\n",
       "    </tr>\n",
       "  </tbody>\n",
       "</table>\n",
       "</div>"
      ],
      "text/plain": [
       "       Fuel  R$/L  Km/L  Autonomy (Km)  Km/autonomy  L/100 Km  R$/Km  R$/fill  \\\n",
       "0  Gasoline   7.9  13.0          650.0          3.0       7.7   0.61    395.0   \n",
       "1   Ethanol   5.7  11.5          575.0          3.3       8.7   0.50    285.0   \n",
       "\n",
       "   R$/100 Km  Volume (L)  Cost (R$)  R$ ratio  Km ratio  \n",
       "0      60.83       148.2    1170.78     1.386     1.130  \n",
       "1      49.59       167.5     954.75     0.722     0.885  "
      ]
     },
     "execution_count": 22,
     "metadata": {},
     "output_type": "execute_result"
    }
   ],
   "source": [
    "print ('Fuel costs')\n",
    "print ('Tank capacity:', capacity, 'L | Distance:', dist, 'Km')\n",
    "df_fuel"
   ]
  },
  {
   "cell_type": "code",
   "execution_count": 23,
   "metadata": {},
   "outputs": [
    {
     "data": {
      "image/png": "[encoded data removed]",
      "text/plain": [
       "<Figure size 1152x288 with 3 Axes>"
      ]
     },
     "metadata": {},
     "output_type": "display_data"
    }
   ],
   "source": [
    "sns.set_style(\"darkgrid\")\n",
    "sns.color_palette(\"bright\")\n",
    "\n",
    "fig, axs = plt.subplots(1, 3, figsize=(16, 4))\n",
    "\n",
    "sns.barplot(data=df_fuel, y=\"Fuel\", x='Autonomy (Km)', ax=axs[0])\n",
    "sns.barplot(data=df_fuel, x=\"Fuel\", y='R$ ratio', ax=axs[1])\n",
    "sns.barplot(data=df_fuel, x=\"Fuel\", y='Km ratio', ax=axs[2])\n",
    "\n",
    "for i in range(len(axs)):\n",
    "\tif i == 0:\n",
    "\t\tt ='Autonomy'\n",
    "\telif i == 1:\n",
    "\t\tt = 'R$ ratio'\n",
    "\telif i == 2:\n",
    "\t\tt = 'Km ratio'\n",
    "\taxs[i].set(xlabel=None, ylabel=None, title=t)\n",
    "\taxs[i].bar_label(axs[i].containers[0])\n",
    "\taxs[i].margins(x=0.1, y=0.1)"
   ]
  },
  {
   "cell_type": "code",
   "execution_count": 24,
   "metadata": {},
   "outputs": [
    {
     "data": {
      "image/png": "[encoded data removed]",
      "text/plain": [
       "<Figure size 1152x288 with 4 Axes>"
      ]
     },
     "metadata": {},
     "output_type": "display_data"
    }
   ],
   "source": [
    "fig, axs = plt.subplots(1, 4, figsize=(16, 4))\n",
    "\n",
    "sns.barplot(data=df_fuel, x=\"Fuel\", y='R$/100 Km', ax=axs[0])\n",
    "sns.barplot(data=df_fuel, x=\"Fuel\", y='L/100 Km', ax=axs[1])\n",
    "sns.barplot(data=df_fuel, x=\"Fuel\", y='Volume (L)', ax=axs[2])\n",
    "sns.barplot(data=df_fuel, x=\"Fuel\", y='Cost (R$)', ax=axs[3])\n",
    "\n",
    "for i in range(len(axs)):\n",
    "\tif i == 0:\n",
    "\t\tt ='R$/100 Km'\n",
    "\telif i == 1:\n",
    "\t\tt = 'L/100 Km'\n",
    "\telif i == 2:\n",
    "\t\tt = 'Amount of fuel (L)'\n",
    "\telif i == 3:\n",
    "\t\tt = 'Amount of fuel (L)'\n",
    "\taxs[i].set(xlabel=None, ylabel=None, title=t)\n",
    "\taxs[i].bar_label(axs[i].containers[0])\n",
    "\taxs[i].margins(y=0.1)"
   ]
  },
  {
   "cell_type": "markdown",
   "metadata": {},
   "source": [
    "### Information"
   ]
  },
  {
   "cell_type": "code",
   "execution_count": 25,
   "metadata": {},
   "outputs": [
    {
     "name": "stdout",
     "output_type": "stream",
     "text": [
      "Trip calculations\n"
     ]
    },
    {
     "data": {
      "text/html": [
       "<div>\n",
       "<style scoped>\n",
       "    .dataframe tbody tr th:only-of-type {\n",
       "        vertical-align: middle;\n",
       "    }\n",
       "\n",
       "    .dataframe tbody tr th {\n",
       "        vertical-align: top;\n",
       "    }\n",
       "\n",
       "    .dataframe thead th {\n",
       "        text-align: right;\n",
       "    }\n",
       "</style>\n",
       "<table border=\"1\" class=\"dataframe\">\n",
       "  <thead>\n",
       "    <tr style=\"text-align: right;\">\n",
       "      <th></th>\n",
       "      <th>Distance (Km)</th>\n",
       "      <th>AVG speed (Km/h)</th>\n",
       "      <th>Departure time</th>\n",
       "      <th>Arrival time</th>\n",
       "      <th>Elapsed time</th>\n",
       "      <th>Elapsed time hh:mm:ss</th>\n",
       "    </tr>\n",
       "  </thead>\n",
       "  <tbody>\n",
       "    <tr>\n",
       "      <th>0</th>\n",
       "      <td>963</td>\n",
       "      <td>80</td>\n",
       "      <td>2022-05-06 07:00:00</td>\n",
       "      <td>2022-05-06 19:02:15</td>\n",
       "      <td>0 days 12:02:15</td>\n",
       "      <td>12:02:15</td>\n",
       "    </tr>\n",
       "  </tbody>\n",
       "</table>\n",
       "</div>"
      ],
      "text/plain": [
       "   Distance (Km)  AVG speed (Km/h)      Departure time        Arrival time  \\\n",
       "0            963                80 2022-05-06 07:00:00 2022-05-06 19:02:15   \n",
       "\n",
       "     Elapsed time Elapsed time hh:mm:ss  \n",
       "0 0 days 12:02:15              12:02:15  "
      ]
     },
     "execution_count": 25,
     "metadata": {},
     "output_type": "execute_result"
    }
   ],
   "source": [
    "print('Trip calculations')\n",
    "df_trip"
   ]
  },
  {
   "cell_type": "code",
   "execution_count": 26,
   "metadata": {},
   "outputs": [
    {
     "name": "stdout",
     "output_type": "stream",
     "text": [
      "Fuel's lowest value\n"
     ]
    },
    {
     "data": {
      "text/html": [
       "<div>\n",
       "<style scoped>\n",
       "    .dataframe tbody tr th:only-of-type {\n",
       "        vertical-align: middle;\n",
       "    }\n",
       "\n",
       "    .dataframe tbody tr th {\n",
       "        vertical-align: top;\n",
       "    }\n",
       "\n",
       "    .dataframe thead th {\n",
       "        text-align: right;\n",
       "    }\n",
       "</style>\n",
       "<table border=\"1\" class=\"dataframe\">\n",
       "  <thead>\n",
       "    <tr style=\"text-align: right;\">\n",
       "      <th></th>\n",
       "      <th>Fuel</th>\n",
       "      <th>R$/L</th>\n",
       "      <th>Km/L</th>\n",
       "      <th>Autonomy (Km)</th>\n",
       "      <th>Km/autonomy</th>\n",
       "      <th>L/100 Km</th>\n",
       "      <th>R$/Km</th>\n",
       "      <th>R$/fill</th>\n",
       "      <th>R$/100 Km</th>\n",
       "      <th>Volume (L)</th>\n",
       "      <th>Cost (R$)</th>\n",
       "      <th>R$ ratio</th>\n",
       "      <th>Km ratio</th>\n",
       "    </tr>\n",
       "  </thead>\n",
       "  <tbody>\n",
       "    <tr>\n",
       "      <th>1</th>\n",
       "      <td>Ethanol</td>\n",
       "      <td>5.7</td>\n",
       "      <td>11.5</td>\n",
       "      <td>575.0</td>\n",
       "      <td>3.3</td>\n",
       "      <td>8.7</td>\n",
       "      <td>0.5</td>\n",
       "      <td>285.0</td>\n",
       "      <td>49.59</td>\n",
       "      <td>167.5</td>\n",
       "      <td>954.75</td>\n",
       "      <td>0.722</td>\n",
       "      <td>0.885</td>\n",
       "    </tr>\n",
       "  </tbody>\n",
       "</table>\n",
       "</div>"
      ],
      "text/plain": [
       "      Fuel  R$/L  Km/L  Autonomy (Km)  Km/autonomy  L/100 Km  R$/Km  R$/fill  \\\n",
       "1  Ethanol   5.7  11.5          575.0          3.3       8.7    0.5    285.0   \n",
       "\n",
       "   R$/100 Km  Volume (L)  Cost (R$)  R$ ratio  Km ratio  \n",
       "1      49.59       167.5     954.75     0.722     0.885  "
      ]
     },
     "execution_count": 26,
     "metadata": {},
     "output_type": "execute_result"
    }
   ],
   "source": [
    "print(\"Fuel's lowest value\")\n",
    "df_fuel[df_fuel['R$/Km'] == df_fuel['R$/Km'].min()]"
   ]
  },
  {
   "cell_type": "code",
   "execution_count": 27,
   "metadata": {},
   "outputs": [
    {
     "name": "stdout",
     "output_type": "stream",
     "text": [
      "Fuel's highest value\n"
     ]
    },
    {
     "data": {
      "text/html": [
       "<div>\n",
       "<style scoped>\n",
       "    .dataframe tbody tr th:only-of-type {\n",
       "        vertical-align: middle;\n",
       "    }\n",
       "\n",
       "    .dataframe tbody tr th {\n",
       "        vertical-align: top;\n",
       "    }\n",
       "\n",
       "    .dataframe thead th {\n",
       "        text-align: right;\n",
       "    }\n",
       "</style>\n",
       "<table border=\"1\" class=\"dataframe\">\n",
       "  <thead>\n",
       "    <tr style=\"text-align: right;\">\n",
       "      <th></th>\n",
       "      <th>Fuel</th>\n",
       "      <th>R$/L</th>\n",
       "      <th>Km/L</th>\n",
       "      <th>Autonomy (Km)</th>\n",
       "      <th>Km/autonomy</th>\n",
       "      <th>L/100 Km</th>\n",
       "      <th>R$/Km</th>\n",
       "      <th>R$/fill</th>\n",
       "      <th>R$/100 Km</th>\n",
       "      <th>Volume (L)</th>\n",
       "      <th>Cost (R$)</th>\n",
       "      <th>R$ ratio</th>\n",
       "      <th>Km ratio</th>\n",
       "    </tr>\n",
       "  </thead>\n",
       "  <tbody>\n",
       "    <tr>\n",
       "      <th>0</th>\n",
       "      <td>Gasoline</td>\n",
       "      <td>7.9</td>\n",
       "      <td>13.0</td>\n",
       "      <td>650.0</td>\n",
       "      <td>3.0</td>\n",
       "      <td>7.7</td>\n",
       "      <td>0.61</td>\n",
       "      <td>395.0</td>\n",
       "      <td>60.83</td>\n",
       "      <td>148.2</td>\n",
       "      <td>1170.78</td>\n",
       "      <td>1.386</td>\n",
       "      <td>1.13</td>\n",
       "    </tr>\n",
       "  </tbody>\n",
       "</table>\n",
       "</div>"
      ],
      "text/plain": [
       "       Fuel  R$/L  Km/L  Autonomy (Km)  Km/autonomy  L/100 Km  R$/Km  R$/fill  \\\n",
       "0  Gasoline   7.9  13.0          650.0          3.0       7.7   0.61    395.0   \n",
       "\n",
       "   R$/100 Km  Volume (L)  Cost (R$)  R$ ratio  Km ratio  \n",
       "0      60.83       148.2    1170.78     1.386      1.13  "
      ]
     },
     "execution_count": 27,
     "metadata": {},
     "output_type": "execute_result"
    }
   ],
   "source": [
    "print(\"Fuel's highest value\")\n",
    "df_fuel[df_fuel['R$/Km'] == df_fuel['R$/Km'].max()]"
   ]
  },
  {
   "cell_type": "code",
   "execution_count": 28,
   "metadata": {},
   "outputs": [
    {
     "name": "stdout",
     "output_type": "stream",
     "text": [
      "Trip with the cheapest fuel\n"
     ]
    },
    {
     "data": {
      "text/html": [
       "<div>\n",
       "<style scoped>\n",
       "    .dataframe tbody tr th:only-of-type {\n",
       "        vertical-align: middle;\n",
       "    }\n",
       "\n",
       "    .dataframe tbody tr th {\n",
       "        vertical-align: top;\n",
       "    }\n",
       "\n",
       "    .dataframe thead th {\n",
       "        text-align: right;\n",
       "    }\n",
       "</style>\n",
       "<table border=\"1\" class=\"dataframe\">\n",
       "  <thead>\n",
       "    <tr style=\"text-align: right;\">\n",
       "      <th></th>\n",
       "      <th>index</th>\n",
       "      <th>Fuel</th>\n",
       "      <th>R$/L</th>\n",
       "      <th>Km/L</th>\n",
       "      <th>Autonomy (Km)</th>\n",
       "      <th>Km/autonomy</th>\n",
       "      <th>L/100 Km</th>\n",
       "      <th>R$/Km</th>\n",
       "      <th>R$/fill</th>\n",
       "      <th>R$/100 Km</th>\n",
       "      <th>Volume (L)</th>\n",
       "      <th>Cost (R$)</th>\n",
       "      <th>R$ ratio</th>\n",
       "      <th>Km ratio</th>\n",
       "      <th>Distance (Km)</th>\n",
       "      <th>AVG speed (Km/h)</th>\n",
       "      <th>Departure time</th>\n",
       "      <th>Arrival time</th>\n",
       "      <th>Elapsed time</th>\n",
       "      <th>Elapsed time hh:mm:ss</th>\n",
       "    </tr>\n",
       "  </thead>\n",
       "  <tbody>\n",
       "    <tr>\n",
       "      <th>0</th>\n",
       "      <td>1</td>\n",
       "      <td>Ethanol</td>\n",
       "      <td>5.7</td>\n",
       "      <td>11.5</td>\n",
       "      <td>575.0</td>\n",
       "      <td>3.3</td>\n",
       "      <td>8.7</td>\n",
       "      <td>0.5</td>\n",
       "      <td>285.0</td>\n",
       "      <td>49.59</td>\n",
       "      <td>167.5</td>\n",
       "      <td>954.75</td>\n",
       "      <td>0.722</td>\n",
       "      <td>0.885</td>\n",
       "      <td>963</td>\n",
       "      <td>80</td>\n",
       "      <td>2022-05-06 07:00:00</td>\n",
       "      <td>2022-05-06 19:02:15</td>\n",
       "      <td>0 days 12:02:15</td>\n",
       "      <td>12:02:15</td>\n",
       "    </tr>\n",
       "  </tbody>\n",
       "</table>\n",
       "</div>"
      ],
      "text/plain": [
       "   index     Fuel  R$/L  Km/L  Autonomy (Km)  Km/autonomy  L/100 Km  R$/Km  \\\n",
       "0      1  Ethanol   5.7  11.5          575.0          3.3       8.7    0.5   \n",
       "\n",
       "   R$/fill  R$/100 Km  Volume (L)  Cost (R$)  R$ ratio  Km ratio  \\\n",
       "0    285.0      49.59       167.5     954.75     0.722     0.885   \n",
       "\n",
       "   Distance (Km)  AVG speed (Km/h)      Departure time        Arrival time  \\\n",
       "0            963                80 2022-05-06 07:00:00 2022-05-06 19:02:15   \n",
       "\n",
       "     Elapsed time Elapsed time hh:mm:ss  \n",
       "0 0 days 12:02:15              12:02:15  "
      ]
     },
     "execution_count": 28,
     "metadata": {},
     "output_type": "execute_result"
    }
   ],
   "source": [
    "print('Trip with the cheapest fuel')\n",
    "df_cheaper = df_fuel[df_fuel['R$/Km'] == df_fuel['R$/Km'].min()].reset_index()\n",
    "pd.concat([df_cheaper, df_trip], axis=1)"
   ]
  },
  {
   "cell_type": "code",
   "execution_count": 29,
   "metadata": {},
   "outputs": [
    {
     "name": "stdout",
     "output_type": "stream",
     "text": [
      "Trip with the most expensive fuel\n"
     ]
    },
    {
     "data": {
      "text/html": [
       "<div>\n",
       "<style scoped>\n",
       "    .dataframe tbody tr th:only-of-type {\n",
       "        vertical-align: middle;\n",
       "    }\n",
       "\n",
       "    .dataframe tbody tr th {\n",
       "        vertical-align: top;\n",
       "    }\n",
       "\n",
       "    .dataframe thead th {\n",
       "        text-align: right;\n",
       "    }\n",
       "</style>\n",
       "<table border=\"1\" class=\"dataframe\">\n",
       "  <thead>\n",
       "    <tr style=\"text-align: right;\">\n",
       "      <th></th>\n",
       "      <th>index</th>\n",
       "      <th>Fuel</th>\n",
       "      <th>R$/L</th>\n",
       "      <th>Km/L</th>\n",
       "      <th>Autonomy (Km)</th>\n",
       "      <th>Km/autonomy</th>\n",
       "      <th>L/100 Km</th>\n",
       "      <th>R$/Km</th>\n",
       "      <th>R$/fill</th>\n",
       "      <th>R$/100 Km</th>\n",
       "      <th>Volume (L)</th>\n",
       "      <th>Cost (R$)</th>\n",
       "      <th>R$ ratio</th>\n",
       "      <th>Km ratio</th>\n",
       "      <th>Distance (Km)</th>\n",
       "      <th>AVG speed (Km/h)</th>\n",
       "      <th>Departure time</th>\n",
       "      <th>Arrival time</th>\n",
       "      <th>Elapsed time</th>\n",
       "      <th>Elapsed time hh:mm:ss</th>\n",
       "    </tr>\n",
       "  </thead>\n",
       "  <tbody>\n",
       "    <tr>\n",
       "      <th>0</th>\n",
       "      <td>0</td>\n",
       "      <td>Gasoline</td>\n",
       "      <td>7.9</td>\n",
       "      <td>13.0</td>\n",
       "      <td>650.0</td>\n",
       "      <td>3.0</td>\n",
       "      <td>7.7</td>\n",
       "      <td>0.61</td>\n",
       "      <td>395.0</td>\n",
       "      <td>60.83</td>\n",
       "      <td>148.2</td>\n",
       "      <td>1170.78</td>\n",
       "      <td>1.386</td>\n",
       "      <td>1.13</td>\n",
       "      <td>963</td>\n",
       "      <td>80</td>\n",
       "      <td>2022-05-06 07:00:00</td>\n",
       "      <td>2022-05-06 19:02:15</td>\n",
       "      <td>0 days 12:02:15</td>\n",
       "      <td>12:02:15</td>\n",
       "    </tr>\n",
       "  </tbody>\n",
       "</table>\n",
       "</div>"
      ],
      "text/plain": [
       "   index      Fuel  R$/L  Km/L  Autonomy (Km)  Km/autonomy  L/100 Km  R$/Km  \\\n",
       "0      0  Gasoline   7.9  13.0          650.0          3.0       7.7   0.61   \n",
       "\n",
       "   R$/fill  R$/100 Km  Volume (L)  Cost (R$)  R$ ratio  Km ratio  \\\n",
       "0    395.0      60.83       148.2    1170.78     1.386      1.13   \n",
       "\n",
       "   Distance (Km)  AVG speed (Km/h)      Departure time        Arrival time  \\\n",
       "0            963                80 2022-05-06 07:00:00 2022-05-06 19:02:15   \n",
       "\n",
       "     Elapsed time Elapsed time hh:mm:ss  \n",
       "0 0 days 12:02:15              12:02:15  "
      ]
     },
     "execution_count": 29,
     "metadata": {},
     "output_type": "execute_result"
    }
   ],
   "source": [
    "print('Trip with the most expensive fuel')\n",
    "df_cheaper = df_fuel[df_fuel['R$/Km'] == df_fuel['R$/Km'].max()].reset_index()\n",
    "pd.concat([df_cheaper, df_trip], axis=1)"
   ]
  },
  {
   "cell_type": "code",
   "execution_count": 30,
   "metadata": {},
   "outputs": [
    {
     "name": "stdout",
     "output_type": "stream",
     "text": [
      "Trip with the highest autonomy fuel\n"
     ]
    },
    {
     "data": {
      "text/html": [
       "<div>\n",
       "<style scoped>\n",
       "    .dataframe tbody tr th:only-of-type {\n",
       "        vertical-align: middle;\n",
       "    }\n",
       "\n",
       "    .dataframe tbody tr th {\n",
       "        vertical-align: top;\n",
       "    }\n",
       "\n",
       "    .dataframe thead th {\n",
       "        text-align: right;\n",
       "    }\n",
       "</style>\n",
       "<table border=\"1\" class=\"dataframe\">\n",
       "  <thead>\n",
       "    <tr style=\"text-align: right;\">\n",
       "      <th></th>\n",
       "      <th>index</th>\n",
       "      <th>Fuel</th>\n",
       "      <th>R$/L</th>\n",
       "      <th>Km/L</th>\n",
       "      <th>Autonomy (Km)</th>\n",
       "      <th>Km/autonomy</th>\n",
       "      <th>L/100 Km</th>\n",
       "      <th>R$/Km</th>\n",
       "      <th>R$/fill</th>\n",
       "      <th>R$/100 Km</th>\n",
       "      <th>Volume (L)</th>\n",
       "      <th>Cost (R$)</th>\n",
       "      <th>R$ ratio</th>\n",
       "      <th>Km ratio</th>\n",
       "      <th>Distance (Km)</th>\n",
       "      <th>AVG speed (Km/h)</th>\n",
       "      <th>Departure time</th>\n",
       "      <th>Arrival time</th>\n",
       "      <th>Elapsed time</th>\n",
       "      <th>Elapsed time hh:mm:ss</th>\n",
       "    </tr>\n",
       "  </thead>\n",
       "  <tbody>\n",
       "    <tr>\n",
       "      <th>0</th>\n",
       "      <td>0</td>\n",
       "      <td>Gasoline</td>\n",
       "      <td>7.9</td>\n",
       "      <td>13.0</td>\n",
       "      <td>650.0</td>\n",
       "      <td>3.0</td>\n",
       "      <td>7.7</td>\n",
       "      <td>0.61</td>\n",
       "      <td>395.0</td>\n",
       "      <td>60.83</td>\n",
       "      <td>148.2</td>\n",
       "      <td>1170.78</td>\n",
       "      <td>1.386</td>\n",
       "      <td>1.13</td>\n",
       "      <td>963</td>\n",
       "      <td>80</td>\n",
       "      <td>2022-05-06 07:00:00</td>\n",
       "      <td>2022-05-06 19:02:15</td>\n",
       "      <td>0 days 12:02:15</td>\n",
       "      <td>12:02:15</td>\n",
       "    </tr>\n",
       "  </tbody>\n",
       "</table>\n",
       "</div>"
      ],
      "text/plain": [
       "   index      Fuel  R$/L  Km/L  Autonomy (Km)  Km/autonomy  L/100 Km  R$/Km  \\\n",
       "0      0  Gasoline   7.9  13.0          650.0          3.0       7.7   0.61   \n",
       "\n",
       "   R$/fill  R$/100 Km  Volume (L)  Cost (R$)  R$ ratio  Km ratio  \\\n",
       "0    395.0      60.83       148.2    1170.78     1.386      1.13   \n",
       "\n",
       "   Distance (Km)  AVG speed (Km/h)      Departure time        Arrival time  \\\n",
       "0            963                80 2022-05-06 07:00:00 2022-05-06 19:02:15   \n",
       "\n",
       "     Elapsed time Elapsed time hh:mm:ss  \n",
       "0 0 days 12:02:15              12:02:15  "
      ]
     },
     "execution_count": 30,
     "metadata": {},
     "output_type": "execute_result"
    }
   ],
   "source": [
    "print(\"Trip with the highest autonomy fuel\")\n",
    "df_most_autonomy = df_fuel[df_fuel['Autonomy (Km)'] == df_fuel['Autonomy (Km)'].max()].reset_index()\n",
    "pd.concat([df_most_autonomy, df_trip], axis=1)"
   ]
  },
  {
   "cell_type": "code",
   "execution_count": 31,
   "metadata": {},
   "outputs": [
    {
     "name": "stdout",
     "output_type": "stream",
     "text": [
      "Trip with the least autonomy fuel\n"
     ]
    },
    {
     "data": {
      "text/html": [
       "<div>\n",
       "<style scoped>\n",
       "    .dataframe tbody tr th:only-of-type {\n",
       "        vertical-align: middle;\n",
       "    }\n",
       "\n",
       "    .dataframe tbody tr th {\n",
       "        vertical-align: top;\n",
       "    }\n",
       "\n",
       "    .dataframe thead th {\n",
       "        text-align: right;\n",
       "    }\n",
       "</style>\n",
       "<table border=\"1\" class=\"dataframe\">\n",
       "  <thead>\n",
       "    <tr style=\"text-align: right;\">\n",
       "      <th></th>\n",
       "      <th>index</th>\n",
       "      <th>Fuel</th>\n",
       "      <th>R$/L</th>\n",
       "      <th>Km/L</th>\n",
       "      <th>Autonomy (Km)</th>\n",
       "      <th>Km/autonomy</th>\n",
       "      <th>L/100 Km</th>\n",
       "      <th>R$/Km</th>\n",
       "      <th>R$/fill</th>\n",
       "      <th>R$/100 Km</th>\n",
       "      <th>Volume (L)</th>\n",
       "      <th>Cost (R$)</th>\n",
       "      <th>R$ ratio</th>\n",
       "      <th>Km ratio</th>\n",
       "      <th>Distance (Km)</th>\n",
       "      <th>AVG speed (Km/h)</th>\n",
       "      <th>Departure time</th>\n",
       "      <th>Arrival time</th>\n",
       "      <th>Elapsed time</th>\n",
       "      <th>Elapsed time hh:mm:ss</th>\n",
       "    </tr>\n",
       "  </thead>\n",
       "  <tbody>\n",
       "    <tr>\n",
       "      <th>0</th>\n",
       "      <td>1</td>\n",
       "      <td>Ethanol</td>\n",
       "      <td>5.7</td>\n",
       "      <td>11.5</td>\n",
       "      <td>575.0</td>\n",
       "      <td>3.3</td>\n",
       "      <td>8.7</td>\n",
       "      <td>0.5</td>\n",
       "      <td>285.0</td>\n",
       "      <td>49.59</td>\n",
       "      <td>167.5</td>\n",
       "      <td>954.75</td>\n",
       "      <td>0.722</td>\n",
       "      <td>0.885</td>\n",
       "      <td>963</td>\n",
       "      <td>80</td>\n",
       "      <td>2022-05-06 07:00:00</td>\n",
       "      <td>2022-05-06 19:02:15</td>\n",
       "      <td>0 days 12:02:15</td>\n",
       "      <td>12:02:15</td>\n",
       "    </tr>\n",
       "  </tbody>\n",
       "</table>\n",
       "</div>"
      ],
      "text/plain": [
       "   index     Fuel  R$/L  Km/L  Autonomy (Km)  Km/autonomy  L/100 Km  R$/Km  \\\n",
       "0      1  Ethanol   5.7  11.5          575.0          3.3       8.7    0.5   \n",
       "\n",
       "   R$/fill  R$/100 Km  Volume (L)  Cost (R$)  R$ ratio  Km ratio  \\\n",
       "0    285.0      49.59       167.5     954.75     0.722     0.885   \n",
       "\n",
       "   Distance (Km)  AVG speed (Km/h)      Departure time        Arrival time  \\\n",
       "0            963                80 2022-05-06 07:00:00 2022-05-06 19:02:15   \n",
       "\n",
       "     Elapsed time Elapsed time hh:mm:ss  \n",
       "0 0 days 12:02:15              12:02:15  "
      ]
     },
     "execution_count": 31,
     "metadata": {},
     "output_type": "execute_result"
    }
   ],
   "source": [
    "print(\"Trip with the least autonomy fuel\")\n",
    "df_most_autonomy = df_fuel[df_fuel['Autonomy (Km)'] == df_fuel['Autonomy (Km)'].min()].reset_index()\n",
    "pd.concat([df_most_autonomy, df_trip], axis=1)"
   ]
  }
 ],
 "metadata": {
  "interpreter": {
   "hash": "b89b5cfaba6639976dc87ff2fec6d58faec662063367e2c229c520fe71072417"
  },
  "kernelspec": {
   "display_name": "Python 3.10.0 64-bit",
   "language": "python",
   "name": "python3"
  },
  "language_info": {
   "codemirror_mode": {
    "name": "ipython",
    "version": 3
   },
   "file_extension": ".py",
   "mimetype": "text/x-python",
   "name": "python",
   "nbconvert_exporter": "python",
   "pygments_lexer": "ipython3",
   "version": "3.10.0"
  },
  "orig_nbformat": 4
 },
 "nbformat": 4,
 "nbformat_minor": 2
}
