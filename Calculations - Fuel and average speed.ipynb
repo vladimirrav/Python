{
 "cells": [
  {
   "cell_type": "code",
   "execution_count": 2,
   "metadata": {},
   "outputs": [],
   "source": [
    "from datetime import datetime, date, time, timedelta\n",
    "import pandas as pd, numpy as np\n",
    "from matplotlib import pyplot as plt"
   ]
  },
  {
   "cell_type": "code",
   "execution_count": 3,
   "metadata": {},
   "outputs": [],
   "source": [
    "n = 1\n",
    "dist = 1360 * n\n",
    "kml_G = 13.6\n",
    "price_LG = 7.9\n",
    "kml_E = 12.0\n",
    "price_LE = 5.7\n",
    "capacity = 50\n",
    "authonomy_G = capacity * kml_G\n",
    "authonomy_E = capacity * kml_E\n",
    "dist_authonomy_G = dist / authonomy_G\n",
    "dist_authonomy_E = dist / authonomy_E"
   ]
  },
  {
   "cell_type": "code",
   "execution_count": 4,
   "metadata": {},
   "outputs": [],
   "source": [
    "# Calc\n",
    "km100_E = 100 / kml_E\n",
    "km100_G = 100 / kml_G\n",
    "qt_liters_G = dist / 100 * km100_G\n",
    "qt_liters_E = dist / 100 * km100_E\n",
    "value_Km_G = price_LG / kml_G\n",
    "value_Km_E = price_LE / kml_E\n",
    "value_100Km_G = 100 / kml_G * price_LG\n",
    "value_100Km_E = 100 / kml_E * price_LE\n",
    "value_G = price_LG * dist / 100 * km100_G\n",
    "value_E = price_LE * dist / 100 * km100_E"
   ]
  },
  {
   "cell_type": "code",
   "execution_count": 5,
   "metadata": {},
   "outputs": [
    {
     "data": {
      "text/html": [
       "<div>\n",
       "<style scoped>\n",
       "    .dataframe tbody tr th:only-of-type {\n",
       "        vertical-align: middle;\n",
       "    }\n",
       "\n",
       "    .dataframe tbody tr th {\n",
       "        vertical-align: top;\n",
       "    }\n",
       "\n",
       "    .dataframe thead th {\n",
       "        text-align: right;\n",
       "    }\n",
       "</style>\n",
       "<table border=\"1\" class=\"dataframe\">\n",
       "  <thead>\n",
       "    <tr style=\"text-align: right;\">\n",
       "      <th></th>\n",
       "      <th>Fuel</th>\n",
       "      <th>Distance (Km)</th>\n",
       "      <th>Capacity (L)</th>\n",
       "      <th>R$/L</th>\n",
       "      <th>R$/fill</th>\n",
       "      <th>Authonomy (Km)</th>\n",
       "      <th>Km/authonomy</th>\n",
       "      <th>Km/L</th>\n",
       "      <th>L/100 Km</th>\n",
       "      <th>Value/Km</th>\n",
       "      <th>R$/100 Km</th>\n",
       "      <th>Total fuel (L)</th>\n",
       "      <th>Total value (R$)</th>\n",
       "      <th>R$ ratio</th>\n",
       "      <th>Km ratio</th>\n",
       "    </tr>\n",
       "  </thead>\n",
       "  <tbody>\n",
       "    <tr>\n",
       "      <th>0</th>\n",
       "      <td>Gasoline</td>\n",
       "      <td>1360</td>\n",
       "      <td>50</td>\n",
       "      <td>7.9</td>\n",
       "      <td>395.0</td>\n",
       "      <td>680.0</td>\n",
       "      <td>2.000000</td>\n",
       "      <td>13.6</td>\n",
       "      <td>7.352941</td>\n",
       "      <td>0.580882</td>\n",
       "      <td>58.088235</td>\n",
       "      <td>100.000000</td>\n",
       "      <td>790.0</td>\n",
       "      <td>1.385965</td>\n",
       "      <td>1.133333</td>\n",
       "    </tr>\n",
       "    <tr>\n",
       "      <th>1</th>\n",
       "      <td>Ethanol</td>\n",
       "      <td>1360</td>\n",
       "      <td>50</td>\n",
       "      <td>5.7</td>\n",
       "      <td>285.0</td>\n",
       "      <td>600.0</td>\n",
       "      <td>2.266667</td>\n",
       "      <td>12.0</td>\n",
       "      <td>8.333333</td>\n",
       "      <td>0.475000</td>\n",
       "      <td>47.500000</td>\n",
       "      <td>113.333333</td>\n",
       "      <td>646.0</td>\n",
       "      <td>0.721519</td>\n",
       "      <td>0.882353</td>\n",
       "    </tr>\n",
       "  </tbody>\n",
       "</table>\n",
       "</div>"
      ],
      "text/plain": [
       "       Fuel  Distance (Km)  Capacity (L)  R$/L  R$/fill  Authonomy (Km)  \\\n",
       "0  Gasoline           1360            50   7.9    395.0           680.0   \n",
       "1   Ethanol           1360            50   5.7    285.0           600.0   \n",
       "\n",
       "   Km/authonomy  Km/L  L/100 Km  Value/Km  R$/100 Km  Total fuel (L)  \\\n",
       "0      2.000000  13.6  7.352941  0.580882  58.088235      100.000000   \n",
       "1      2.266667  12.0  8.333333  0.475000  47.500000      113.333333   \n",
       "\n",
       "   Total value (R$)  R$ ratio  Km ratio  \n",
       "0             790.0  1.385965  1.133333  \n",
       "1             646.0  0.721519  0.882353  "
      ]
     },
     "execution_count": 5,
     "metadata": {},
     "output_type": "execute_result"
    }
   ],
   "source": [
    "df_fuel = pd.DataFrame(\n",
    "\t{\n",
    "\t\t'Fuel'\t\t\t\t: ['Gasoline', 'Ethanol'],\n",
    "\t\t'Distance (Km)'\t\t: [dist, dist],\n",
    "\t\t'Capacity (L)'\t\t: [capacity, capacity],\n",
    "\t\t'R$/L'\t\t\t\t: [price_LG, price_LE],\n",
    "\t\t'R$/fill'\t\t\t: [price_LG * capacity, price_LE * capacity],\n",
    "\t\t'Authonomy (Km)'\t: [authonomy_G, authonomy_E],\n",
    "\t\t'Km/authonomy'\t\t: [dist_authonomy_G, dist_authonomy_E],\n",
    "\t\t'Km/L'\t\t\t\t: [kml_G, kml_E],\n",
    "\t\t'L/100 Km'\t\t\t: [km100_G, km100_E],\n",
    "\t\t'Value/Km'\t\t\t: [value_Km_G, value_Km_E],\n",
    "\t\t'R$/100 Km'\t\t\t: [value_100Km_G, value_100Km_E],\n",
    "\t\t'Total fuel (L)'\t: [qt_liters_G, qt_liters_E],\n",
    "\t\t'Total value (R$)'\t: [value_G, value_E],\n",
    "\t\t'R$ ratio'\t\t\t: [price_LG / price_LE, price_LE / price_LG],\n",
    "\t\t'Km ratio'\t\t\t: [kml_G / kml_E, kml_E / kml_G]\n",
    "\t}\n",
    ")\n",
    "df_fuel"
   ]
  },
  {
   "cell_type": "code",
   "execution_count": 6,
   "metadata": {},
   "outputs": [],
   "source": [
    "one_way = int(dist / n)\n",
    "avg_speed = 80"
   ]
  },
  {
   "cell_type": "code",
   "execution_count": 7,
   "metadata": {},
   "outputs": [
    {
     "data": {
      "text/html": [
       "<div>\n",
       "<style scoped>\n",
       "    .dataframe tbody tr th:only-of-type {\n",
       "        vertical-align: middle;\n",
       "    }\n",
       "\n",
       "    .dataframe tbody tr th {\n",
       "        vertical-align: top;\n",
       "    }\n",
       "\n",
       "    .dataframe thead th {\n",
       "        text-align: right;\n",
       "    }\n",
       "</style>\n",
       "<table border=\"1\" class=\"dataframe\">\n",
       "  <thead>\n",
       "    <tr style=\"text-align: right;\">\n",
       "      <th></th>\n",
       "      <th>Distance (Km)</th>\n",
       "      <th>AVG speed (Km/h)</th>\n",
       "      <th>Departure time</th>\n",
       "      <th>Arrival time</th>\n",
       "      <th>Elapsed time</th>\n",
       "      <th>Elapsed time hh:mm:ss</th>\n",
       "    </tr>\n",
       "  </thead>\n",
       "  <tbody>\n",
       "    <tr>\n",
       "      <th>0</th>\n",
       "      <td>1360</td>\n",
       "      <td>80</td>\n",
       "      <td>2022-04-27 07:00:00</td>\n",
       "      <td>2022-04-28</td>\n",
       "      <td>0 days 17:00:00</td>\n",
       "      <td>17:00:00</td>\n",
       "    </tr>\n",
       "  </tbody>\n",
       "</table>\n",
       "</div>"
      ],
      "text/plain": [
       "   Distance (Km)  AVG speed (Km/h)      Departure time Arrival time  \\\n",
       "0           1360                80 2022-04-27 07:00:00   2022-04-28   \n",
       "\n",
       "     Elapsed time Elapsed time hh:mm:ss  \n",
       "0 0 days 17:00:00              17:00:00  "
      ]
     },
     "execution_count": 7,
     "metadata": {},
     "output_type": "execute_result"
    }
   ],
   "source": [
    "df_trip = pd.DataFrame(\n",
    "\t{\n",
    "\t\t'Distance (Km)'\t\t: [one_way],\n",
    "\t\t'AVG speed (Km/h)'\t: [avg_speed],\n",
    "\t\t'Departure time'\t: [datetime.combine(date.today(), time(7, 0, 0))]\n",
    "\t}\n",
    ")\n",
    "df_trip['Arrival time'] = df_trip['Departure time'] + timedelta(seconds = int((df_trip['Distance (Km)'] / df_trip['AVG speed (Km/h)']) * 3600))\n",
    "df_trip['Elapsed time'] = df_trip['Arrival time'] - df_trip['Departure time']\n",
    "d = pd.to_timedelta(df_trip['Elapsed time']).dt.components[['days', 'hours', 'minutes', 'seconds']]\n",
    "d['hours'] = d['hours'].add(d.pop('days') * 24)\n",
    "\n",
    "df_trip['Elapsed time hh:mm:ss'] = d.astype(str).agg(lambda s: ':'.join(s.str.zfill(2)), axis=1)\n",
    "\n",
    "df_trip"
   ]
  }
 ],
 "metadata": {
  "interpreter": {
   "hash": "b89b5cfaba6639976dc87ff2fec6d58faec662063367e2c229c520fe71072417"
  },
  "kernelspec": {
   "display_name": "Python 3.10.0 64-bit",
   "language": "python",
   "name": "python3"
  },
  "language_info": {
   "codemirror_mode": {
    "name": "ipython",
    "version": 3
   },
   "file_extension": ".py",
   "mimetype": "text/x-python",
   "name": "python",
   "nbconvert_exporter": "python",
   "pygments_lexer": "ipython3",
   "version": "3.10.0"
  },
  "orig_nbformat": 4
 },
 "nbformat": 4,
 "nbformat_minor": 2
}
