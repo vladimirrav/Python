{
 "cells": [
  {
   "cell_type": "code",
   "execution_count": 55,
   "metadata": {},
   "outputs": [],
   "source": [
    "from datetime import datetime, date, time, timedelta"
   ]
  },
  {
   "cell_type": "code",
   "execution_count": 56,
   "metadata": {},
   "outputs": [],
   "source": [
    "routes = 2\n",
    "dist = 1360 * routes\n",
    "sep = \" | \"\n",
    "kml_G = 13.6\n",
    "price_LG = 7.9\n",
    "kml_E = 12.0\n",
    "price_LE = 5.7"
   ]
  },
  {
   "cell_type": "code",
   "execution_count": 57,
   "metadata": {},
   "outputs": [],
   "source": [
    "# Calc\n",
    "km100_E = 100 / kml_E\n",
    "km100_G = 100 / kml_G\n",
    "qt_litters_G = dist / 100 * km100_G\n",
    "qt_litters_E = dist / 100 * km100_E\n",
    "value_Km_G = price_LG / kml_G\n",
    "value_Km_E = price_LE / kml_E\n",
    "value_100Km_G = 100 / kml_G * price_LG\n",
    "value_100Km_E = 100 / kml_E * price_LE\n",
    "value_G = price_LG * dist / 100 * km100_G\n",
    "value_E = price_LE * dist / 100 * km100_E"
   ]
  },
  {
   "cell_type": "code",
   "execution_count": 61,
   "metadata": {},
   "outputs": [
    {
     "name": "stdout",
     "output_type": "stream",
     "text": [
      "Distance 2720 Km\n",
      "* Km/L ratio E/G 88.2 %\n",
      "* $$$ ratio E/G 72.2 %\n",
      "* G Km/L: 13.6 | R$/Km 0.58 | 200.0 L | R$ 1580.00 | L/100 Km: 7.4 | R$/100 Km: 58.09\n",
      "* E Km/L: 12.0 | R$/Km 0.48 | 226.7 L | R$ 1292.00 | L/100 Km: 8.3 | R$/100 Km: 47.50\n"
     ]
    }
   ],
   "source": [
    "# Output\n",
    "print('Distance', dist, 'Km')\n",
    "print('*', 'Km/L ratio E/G', round(kml_E / kml_G * 100, 1), '%')\n",
    "print('*', '$$$ ratio E/G', round(price_LE / price_LG * 100, 1), '%')\n",
    "\n",
    "print('*', 'G', 'Km/L:', f\"{kml_G:3.1f}\", '|', 'R$/Km', f\"{value_Km_G:3.2f}\", '|', f\"{qt_litters_G:5.1f}\", 'L', '|', 'R$', f\"{value_G:5.2f}\", '|', 'L/100 Km:', f\"{km100_G:3.1f}\", '|', 'R$/100 Km:', f\"{value_100Km_G:5.2f}\")\n",
    "print('*', 'E', 'Km/L:', f\"{kml_E:3.1f}\", '|', 'R$/Km', f\"{value_Km_E:3.2f}\", '|', f\"{qt_litters_E:5.1f}\", 'L', '|', 'R$', f\"{value_E:5.2f}\", '|', 'L/100 Km:', f\"{km100_E:3.1f}\", '|', 'R$/100 Km:', f\"{value_100Km_E:5.2f}\")"
   ]
  },
  {
   "cell_type": "code",
   "execution_count": 62,
   "metadata": {},
   "outputs": [],
   "source": [
    "one_way = dist / routes\n",
    "avg_speed = 80\n",
    "departure_time = datetime.combine(date.today(), time(7,0))\n",
    "arrival_time = (departure_time + timedelta(seconds= int((one_way / avg_speed) * 3600)))\n",
    "dd = arrival_time - departure_time\n",
    "m, s = divmod(dd.total_seconds(), 60)\n",
    "km_min = avg_speed / 60\n",
    "m_sec = avg_speed / 3.6"
   ]
  },
  {
   "cell_type": "code",
   "execution_count": 63,
   "metadata": {},
   "outputs": [
    {
     "name": "stdout",
     "output_type": "stream",
     "text": [
      "Average speed and time\n",
      "* Distance: 1360 Km\n",
      "* Avg speed: 80 Km/h\n",
      "* Km/min: 1.3\n",
      "* m/sec: 22.2\n",
      "* Departure time: 2022-04-27 07:00:00\n",
      "* Arrival time: 2022-04-28 00:00:00 [17:00:00]\n"
     ]
    }
   ],
   "source": [
    "# Calculations\n",
    "print('Average speed and time')\n",
    "print('*', 'Distance:', f\"{one_way:3.0f}\", 'Km')\n",
    "print('*', 'Avg speed:', avg_speed, 'Km/h')\n",
    "print('*', 'Km/min:', f\"{km_min:3.1f}\")\n",
    "print('*', 'm/sec:', f\"{m_sec:3.1f}\")\n",
    "print('*', 'Departure time:', departure_time)\n",
    "print('*', 'Arrival time:', arrival_time, \"[{}:{}:{}]\".format(f\"{int(m//60):02d}\", f\"{int(m%60):02d}\", f\"{int(s):02d}\"))\n"
   ]
  }
 ],
 "metadata": {
  "interpreter": {
   "hash": "b89b5cfaba6639976dc87ff2fec6d58faec662063367e2c229c520fe71072417"
  },
  "kernelspec": {
   "display_name": "Python 3.10.0 64-bit",
   "language": "python",
   "name": "python3"
  },
  "language_info": {
   "codemirror_mode": {
    "name": "ipython",
    "version": 3
   },
   "file_extension": ".py",
   "mimetype": "text/x-python",
   "name": "python",
   "nbconvert_exporter": "python",
   "pygments_lexer": "ipython3",
   "version": "3.10.0"
  },
  "orig_nbformat": 4
 },
 "nbformat": 4,
 "nbformat_minor": 2
}
